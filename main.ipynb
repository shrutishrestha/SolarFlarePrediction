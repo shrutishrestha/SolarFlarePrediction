{
 "cells": [
  {
   "cell_type": "code",
   "execution_count": 4,
   "id": "f2034005",
   "metadata": {},
   "outputs": [],
   "source": [
    "import glob\n",
    "import os\n",
    "import csv\n",
    "import pandas as pd\n",
    "from torchvision import transforms"
   ]
  },
  {
   "cell_type": "code",
   "execution_count": null,
   "id": "b97c6980",
   "metadata": {},
   "outputs": [],
   "source": [
    "def mean_normalization(image, minimum, maximum):\n",
    "    return ((image- minimum) / (maximum - minimum))\n",
    "\n",
    "class MyFitsDataset(Dataset):\n",
    "    def __init__(self, csv_file, root_dir, transform=None):\n",
    "        self.row = pd.read_csv(csv_file) #image name and label is in csv\n",
    "        self.root_dir = root_dir\n",
    "        self.transform = transform\n",
    "        self.upsample = nn.Upsample(scale_factor=2, mode='bilinear', align_corners=True)\n",
    "        self.max_w = 2862\n",
    "        self.max_h = 3361\n",
    "        self.mean = 0.19110974568257244\n",
    "        self.min = -1500\n",
    "        self.max = 1500\n",
    "\n",
    "    def __getitem__(self, index):\n",
    "        filename = self.row.iloc[index, 0]\n",
    "        foldername = filename.split(\".\")[2]\n",
    "        img_path = os.path.join(self.root_dir, foldername, filename)\n",
    "        hmi = sunpy.map.Map(img_path)\n",
    "        data = hmi.data.astype('float32')\n",
    "        \n",
    "        #nan to 0\n",
    "        mask = [data != data]\n",
    "        if np.sum(np.isnan(data)) > 0:\n",
    "            data[mask] = 0\n",
    "            \n",
    "        #clip\n",
    "        data = np.clip(data, -1500,1500)\n",
    "        \n",
    "        #mean\n",
    "        data = mean_normalization(image, self.min, self.max)\n",
    "        \n",
    "        #Padding to 0 \n",
    "        image = transforms.functional.pad(data, [self.max_h, self.max_w], fill = 0, padding_mode=0)\n",
    "                \n",
    "        input_image  = image\n",
    "        y_label = torch.tensor(int(self.row.iloc[index, 1]))\n",
    "        \n",
    "        return (input_image, y_label)\n",
    "\n",
    "        #return samples\n",
    "    def __len__(self):\n",
    "        return len(self.row)\n",
    "\n"
   ]
  }
 ],
 "metadata": {
  "kernelspec": {
   "display_name": "Python 3",
   "language": "python",
   "name": "python3"
  },
  "language_info": {
   "codemirror_mode": {
    "name": "ipython",
    "version": 3
   },
   "file_extension": ".py",
   "mimetype": "text/x-python",
   "name": "python",
   "nbconvert_exporter": "python",
   "pygments_lexer": "ipython3",
   "version": "3.8.8"
  }
 },
 "nbformat": 4,
 "nbformat_minor": 5
}
