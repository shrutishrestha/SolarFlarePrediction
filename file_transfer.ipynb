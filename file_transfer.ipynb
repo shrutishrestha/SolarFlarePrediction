{
 "cells": [
  {
   "cell_type": "code",
   "execution_count": 1,
   "id": "e4d53696",
   "metadata": {},
   "outputs": [],
   "source": [
    "import os\n",
    "import csv\n",
    "import glob\n",
    "import shutil\n",
    "import pandas as pd\n",
    "from astropy.io import fits\n",
    "from sunpy.io.header import FileHeader"
   ]
  },
  {
   "cell_type": "code",
   "execution_count": 2,
   "id": "d8febcb3",
   "metadata": {},
   "outputs": [],
   "source": [
    "harpnum_dir = \"allharp2noaa2.csv\"\n",
    "main_dir = \"/data/SHARPS/raw-sharps\"\n",
    "destination_folder = \"/data/SHARP_HARP\"\n",
    "no_lat_values = \"/data/SHARP_HARP/no_lat_files.csv\""
   ]
  },
  {
   "cell_type": "code",
   "execution_count": 3,
   "id": "7fc5bf85",
   "metadata": {},
   "outputs": [],
   "source": [
    "folder_list = os.listdir(main_dir)\n",
    "df = pd.read_csv(harpnum_dir)\n",
    "harpnum_list = df[\"DEF_HARPNUM\"].tolist()"
   ]
  },
  {
   "cell_type": "code",
   "execution_count": 4,
   "id": "121e7841",
   "metadata": {},
   "outputs": [],
   "source": [
    "def intersection(lst1, lst2):\n",
    "    return list(set(lst1) & set(lst2))\n",
    "\n",
    "def listdir_nohidden(path):\n",
    "    return glob.glob(os.path.join(path, '*'))"
   ]
  },
  {
   "cell_type": "code",
   "execution_count": 5,
   "id": "34ec20e1",
   "metadata": {},
   "outputs": [],
   "source": [
    "def savefile(main_dir, foldername, magnetogram_file, destination_folder):\n",
    "    source = os.path.join(main_dir, foldername, magnetogram_file)\n",
    "    destination = os.path.join(destination_folder, foldername)\n",
    "    if not os.path.isdir(destination):\n",
    "        os.mkdir(destination)\n",
    "    shutil.copy(source, destination)"
   ]
  },
  {
   "cell_type": "code",
   "execution_count": 6,
   "id": "c3f0f7bc",
   "metadata": {},
   "outputs": [],
   "source": [
    "common_folder_list = intersection(folder_list, list(map(str, harpnum_list)))\n",
    "destination_folder_list = os.listdir(destination_folder)\n",
    "for foldername in common_folder_list:\n",
    "    folderpath = os.path.join(main_dir, foldername)\n",
    "    files_inside_folder = listdir_nohidden(folderpath)\n",
    "    magnetogram_files = [file for file in files_inside_folder if 'magnetogram' in file]\n",
    "\n",
    "    for magnetogram_file in magnetogram_files:\n",
    "        time = magnetogram_file.split(\"_\")[3]\n",
    "        if time in ['000000', '120000']:\n",
    "            \n",
    "            # for getting latlong \n",
    "            hdul = fits.open(magnetogram_file)\n",
    "            hdr = hdul[1].header \n",
    "            if foldername not in destination_folder_list:\n",
    "                try:\n",
    "                    LONDTMIN, LONDTMAX = hdr['LONDTMIN'], hdr['LONDTMAX']\n",
    "                    if LONDTMIN >= -70 and LONDTMAX <= 70:\n",
    "                        savefile(main_dir, foldername, magnetogram_file, destination_folder)\n",
    "\n",
    "                except:\n",
    "                    with open(no_lat_values, \"a\") as f:                    \n",
    "                        writer = csv.writer(f)\n",
    "                        writer.writerow([magnetogram_file])"
   ]
  },
  {
   "cell_type": "code",
   "execution_count": null,
   "id": "703dbd9f",
   "metadata": {},
   "outputs": [],
   "source": []
  },
  {
   "cell_type": "code",
   "execution_count": null,
   "id": "1d4bc989",
   "metadata": {},
   "outputs": [],
   "source": []
  }
 ],
 "metadata": {
  "kernelspec": {
   "display_name": "Python 3",
   "language": "python",
   "name": "python3"
  },
  "language_info": {
   "codemirror_mode": {
    "name": "ipython",
    "version": 3
   },
   "file_extension": ".py",
   "mimetype": "text/x-python",
   "name": "python",
   "nbconvert_exporter": "python",
   "pygments_lexer": "ipython3",
   "version": "3.8.8"
  }
 },
 "nbformat": 4,
 "nbformat_minor": 5
}
